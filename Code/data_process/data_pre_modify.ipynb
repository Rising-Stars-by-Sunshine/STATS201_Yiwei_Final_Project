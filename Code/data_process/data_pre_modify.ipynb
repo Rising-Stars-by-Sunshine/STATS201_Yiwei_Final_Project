{
 "cells": [
  {
   "cell_type": "code",
   "execution_count": 30,
   "metadata": {},
   "outputs": [],
   "source": [
    "import pandas as pd\n",
    "import re"
   ]
  },
  {
   "cell_type": "code",
   "execution_count": 31,
   "metadata": {},
   "outputs": [],
   "source": [
    "df = pd.read_csv(\"data.csv\", engine='python',sep = None)"
   ]
  },
  {
   "cell_type": "code",
   "execution_count": 32,
   "metadata": {},
   "outputs": [
    {
     "name": "stdout",
     "output_type": "stream",
     "text": [
      "1000\n"
     ]
    }
   ],
   "source": [
    "dataset_data=[]\n",
    "for i in range(0,1000):\n",
    "    temp2=\"The sentiment is \"\n",
    "    temp3=\"Content:\"\n",
    "    temp3+=str(df.text[i])\n",
    "    temp2+=str(df.sentiment[i])\n",
    "    dataset_data.append({\"instruction\": \"Detect the sentiment of the content.\",\n",
    "        \"input\": temp3,\n",
    "        \"output\": str(temp2)})\n",
    "print(len(dataset_data))"
   ]
  },
  {
   "cell_type": "code",
   "execution_count": 33,
   "metadata": {},
   "outputs": [],
   "source": [
    "import json\n",
    "with open(\"dataset.json\", \"w\") as f:\n",
    "   json.dump(dataset_data, f)"
   ]
  }
 ],
 "metadata": {
  "kernelspec": {
   "display_name": "Python 3",
   "language": "python",
   "name": "python3"
  },
  "language_info": {
   "codemirror_mode": {
    "name": "ipython",
    "version": 3
   },
   "file_extension": ".py",
   "mimetype": "text/x-python",
   "name": "python",
   "nbconvert_exporter": "python",
   "pygments_lexer": "ipython3",
   "version": "3.9.13"
  }
 },
 "nbformat": 4,
 "nbformat_minor": 2
}
